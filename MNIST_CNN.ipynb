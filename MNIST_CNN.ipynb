{
  "nbformat": 4,
  "nbformat_minor": 0,
  "metadata": {
    "colab": {
      "name": "MNIST-CNN",
      "version": "0.3.2",
      "provenance": [],
      "include_colab_link": true
    },
    "kernelspec": {
      "name": "python3",
      "display_name": "Python 3"
    },
    "accelerator": "GPU"
  },
  "cells": [
    {
      "cell_type": "markdown",
      "metadata": {
        "id": "view-in-github",
        "colab_type": "text"
      },
      "source": [
        "<a href=\"https://colab.research.google.com/github/HuuskoJ/MNIST-CNN/blob/master/MNIST_CNN.ipynb\" target=\"_parent\"><img src=\"https://colab.research.google.com/assets/colab-badge.svg\" alt=\"Open In Colab\"/></a>"
      ]
    },
    {
      "cell_type": "markdown",
      "metadata": {
        "id": "IYZAIZd8B3jt",
        "colab_type": "text"
      },
      "source": [
        "# MNIST\n",
        "This is an example how to get over 98 % accuracy on the hand-written digit (MNIST) dataset using convolutional neural network.\n",
        "\n",
        "Only one epoch is needed to achieve this accuracy."
      ]
    },
    {
      "cell_type": "markdown",
      "metadata": {
        "id": "p6k9taziB7Pe",
        "colab_type": "text"
      },
      "source": [
        "## Import dependencies and load data"
      ]
    },
    {
      "cell_type": "code",
      "metadata": {
        "id": "ZMrMQc5NAari",
        "colab_type": "code",
        "outputId": "9decbc57-9ff2-4225-81ae-70bd64089616",
        "colab": {
          "base_uri": "https://localhost:8080/",
          "height": 34
        }
      },
      "source": [
        "import numpy as np\n",
        "import matplotlib.pyplot as plt\n",
        "\n",
        "from tensorflow.keras.layers import Dense, Conv2D, BatchNormalization, ReLU, Dropout, MaxPooling2D, Flatten\n",
        "from tensorflow.keras.models import Sequential\n",
        "from tensorflow.keras.datasets import mnist\n",
        "from tensorflow.keras.utils import to_categorical\n",
        "\n",
        "# Load MNIST data and reshape it\n",
        "(x_train, y_train), (x_test, y_test) = mnist.load_data()\n",
        "x_train = x_train.reshape(60000, 28, 28, 1)\n",
        "x_test = x_test.reshape(x_test.shape[0], 28, 28, 1)\n",
        "\n",
        "# one-hot encode target column\n",
        "y_train = to_categorical(y_train)\n",
        "y_test = to_categorical(y_test)\n",
        "print(x_train.shape)"
      ],
      "execution_count": 1,
      "outputs": [
        {
          "output_type": "stream",
          "text": [
            "(60000, 28, 28, 1)\n"
          ],
          "name": "stdout"
        }
      ]
    },
    {
      "cell_type": "markdown",
      "metadata": {
        "id": "mayXrxhAB_rV",
        "colab_type": "text"
      },
      "source": [
        "## Build and train model\n",
        "\n",
        "After every convolution layer data is normalized, ReLU activation is applied and then max pooled.\n",
        "\n",
        "<figure>\n",
        "<center>\n",
        "<img src='https://lh3.google.com/u/0/d/16Ndz1YF3mYMlCStOAFtPj4yOaXiP07wc=w1280-h1306-iv1' />\n",
        "<figcaption> Model architechture </figcaption></center>\n",
        "</figure>\n",
        "\n"
      ]
    },
    {
      "cell_type": "code",
      "metadata": {
        "id": "scKDOW4KAtaF",
        "colab_type": "code",
        "outputId": "e7772788-13fc-4b29-b7c5-efd488f0f86b",
        "colab": {
          "base_uri": "https://localhost:8080/",
          "height": 292
        }
      },
      "source": [
        "# Initialize model\n",
        "model = Sequential()\n",
        "# Input (1st) layer \n",
        "model.add(Conv2D(8, (5,5), padding='same', activation='linear', input_shape=(28,28, 1)))\n",
        "model.add(BatchNormalization())\n",
        "model.add(ReLU())\n",
        "model.add(MaxPooling2D(padding='same'))\n",
        "# 2nd layer\n",
        "model.add(Conv2D(8, (5,5), padding='same',activation='linear'))\n",
        "model.add(BatchNormalization())\n",
        "model.add(ReLU())\n",
        "# 3rd layer\n",
        "model.add(Conv2D(8, (5,5), padding='same',activation='linear'))\n",
        "model.add(BatchNormalization())\n",
        "model.add(ReLU())\n",
        "model.add(MaxPooling2D(padding='same'))\n",
        "# Flatten\n",
        "model.add(Flatten())\n",
        "# 4th layer\n",
        "model.add(Dense(64, activation='relu'))\n",
        "# 5th layer\n",
        "model.add(Dense(32, activation='relu'))\n",
        "# Output (6th) layer\n",
        "model.add(Dense(10, activation='softmax'))\n",
        "model.compile(optimizer='adam',\n",
        "             loss='categorical_crossentropy',\n",
        "             metrics=['categorical_accuracy'])\n",
        "# Train model on training data\n",
        "history = model.fit(x_train,\n",
        "                    y_train,\n",
        "                    epochs=5,\n",
        "                    validation_data=[x_test, y_test])"
      ],
      "execution_count": 2,
      "outputs": [
        {
          "output_type": "stream",
          "text": [
            "WARNING: Logging before flag parsing goes to stderr.\n",
            "W0822 17:19:08.552001 140555232974720 deprecation.py:506] From /usr/local/lib/python3.6/dist-packages/tensorflow/python/ops/init_ops.py:1251: calling VarianceScaling.__init__ (from tensorflow.python.ops.init_ops) with dtype is deprecated and will be removed in a future version.\n",
            "Instructions for updating:\n",
            "Call initializer instance with the dtype argument instead of passing it to the constructor\n"
          ],
          "name": "stderr"
        },
        {
          "output_type": "stream",
          "text": [
            "Train on 60000 samples, validate on 10000 samples\n",
            "Epoch 1/5\n",
            "60000/60000 [==============================] - 12s 206us/sample - loss: 0.1755 - categorical_accuracy: 0.9455 - val_loss: 0.0817 - val_categorical_accuracy: 0.9730\n",
            "Epoch 2/5\n",
            "60000/60000 [==============================] - 10s 165us/sample - loss: 0.0642 - categorical_accuracy: 0.9801 - val_loss: 0.0515 - val_categorical_accuracy: 0.9825\n",
            "Epoch 3/5\n",
            "60000/60000 [==============================] - 10s 164us/sample - loss: 0.0467 - categorical_accuracy: 0.9852 - val_loss: 0.0479 - val_categorical_accuracy: 0.9837\n",
            "Epoch 4/5\n",
            "60000/60000 [==============================] - 10s 165us/sample - loss: 0.0391 - categorical_accuracy: 0.9876 - val_loss: 0.0327 - val_categorical_accuracy: 0.9899\n",
            "Epoch 5/5\n",
            "60000/60000 [==============================] - 10s 165us/sample - loss: 0.0339 - categorical_accuracy: 0.9890 - val_loss: 0.0345 - val_categorical_accuracy: 0.9885\n"
          ],
          "name": "stdout"
        }
      ]
    },
    {
      "cell_type": "code",
      "metadata": {
        "id": "Wd69aY0HNxjZ",
        "colab_type": "code",
        "colab": {
          "base_uri": "https://localhost:8080/",
          "height": 312
        },
        "outputId": "a857878d-9348-4f75-fb09-b8a3aee47068"
      },
      "source": [
        "# Plot training & validation accuracy values\n",
        "plt.plot(history.history['categorical_accuracy'])\n",
        "plt.plot(history.history['val_categorical_accuracy'])\n",
        "plt.title('Model accuracy')\n",
        "plt.ylabel('Accuracy')\n",
        "plt.xlabel('Epoch')\n",
        "plt.xticks(np.arange(5))\n",
        "plt.legend(['Train', 'Test'], loc='upper left')\n",
        "plt.show()\n",
        "\n",
        "loss, accuracy = model.evaluate(x_test, y_test, verbose=0)\n",
        "print(f'Loss: {loss:.4f} Accuracy: {accuracy * 100 :.2f} %')"
      ],
      "execution_count": 3,
      "outputs": [
        {
          "output_type": "display_data",
          "data": {
            "image/png": "[encoded data removed]",
            "text/plain": [
              "<Figure size 432x288 with 1 Axes>"
            ]
          },
          "metadata": {
            "tags": []
          }
        },
        {
          "output_type": "stream",
          "text": [
            "Loss: 0.0345 Accuracy: 98.85 %\n"
          ],
          "name": "stdout"
        }
      ]
    },
    {
      "cell_type": "markdown",
      "metadata": {
        "id": "9Vc5T1t5HZXC",
        "colab_type": "text"
      },
      "source": [
        "## Test model with random samples"
      ]
    },
    {
      "cell_type": "code",
      "metadata": {
        "id": "SMPR04wyJH-Y",
        "colab_type": "code",
        "outputId": "94f4cd4e-f492-4ca8-e2a4-3640e11a101c",
        "colab": {
          "base_uri": "https://localhost:8080/",
          "height": 286
        }
      },
      "source": [
        "rand = np.random.randint(0,len(x_test)-1)\n",
        "sample = x_test[rand]\n",
        "truth = np.argmax(y_test[rand])\n",
        "sample = sample.reshape(28,28) \n",
        "pred_sample = sample.reshape(1,28, 28, 1)\n",
        "pred = np.argmax(model.predict(pred_sample))\n",
        "plt.title(f'Truth: {truth} Pred: {pred}', fontsize=20)\n",
        "plt.imshow(sample, cmap='Greys_r')\n",
        "plt.grid(False)\n",
        "plt.show()\n"
      ],
      "execution_count": 5,
      "outputs": [
        {
          "output_type": "display_data",
          "data": {
            "image/png": "[encoded data removed]",
            "text/plain": [
              "<Figure size 432x288 with 1 Axes>"
            ]
          },
          "metadata": {
            "tags": []
          }
        }
      ]
    },
    {
      "cell_type": "markdown",
      "metadata": {
        "id": "RDDKXCZ4U_gX",
        "colab_type": "text"
      },
      "source": [
        "## Summary of the model"
      ]
    },
    {
      "cell_type": "code",
      "metadata": {
        "id": "G3b0h27nP8ko",
        "colab_type": "code",
        "colab": {
          "base_uri": "https://localhost:8080/",
          "height": 663
        },
        "outputId": "0766256b-d040-47f6-a8e9-76ccbccdc2ca"
      },
      "source": [
        "model.summary()"
      ],
      "execution_count": 6,
      "outputs": [
        {
          "output_type": "stream",
          "text": [
            "Model: \"sequential\"\n",
            "_________________________________________________________________\n",
            "Layer (type)                 Output Shape              Param #   \n",
            "=================================================================\n",
            "conv2d (Conv2D)              (None, 28, 28, 8)         208       \n",
            "_________________________________________________________________\n",
            "batch_normalization (BatchNo (None, 28, 28, 8)         32        \n",
            "_________________________________________________________________\n",
            "re_lu (ReLU)                 (None, 28, 28, 8)         0         \n",
            "_________________________________________________________________\n",
            "max_pooling2d (MaxPooling2D) (None, 14, 14, 8)         0         \n",
            "_________________________________________________________________\n",
            "conv2d_1 (Conv2D)            (None, 14, 14, 8)         1608      \n",
            "_________________________________________________________________\n",
            "batch_normalization_1 (Batch (None, 14, 14, 8)         32        \n",
            "_________________________________________________________________\n",
            "re_lu_1 (ReLU)               (None, 14, 14, 8)         0         \n",
            "_________________________________________________________________\n",
            "conv2d_2 (Conv2D)            (None, 14, 14, 8)         1608      \n",
            "_________________________________________________________________\n",
            "batch_normalization_2 (Batch (None, 14, 14, 8)         32        \n",
            "_________________________________________________________________\n",
            "re_lu_2 (ReLU)               (None, 14, 14, 8)         0         \n",
            "_________________________________________________________________\n",
            "max_pooling2d_1 (MaxPooling2 (None, 7, 7, 8)           0         \n",
            "_________________________________________________________________\n",
            "flatten (Flatten)            (None, 392)               0         \n",
            "_________________________________________________________________\n",
            "dense (Dense)                (None, 64)                25152     \n",
            "_________________________________________________________________\n",
            "dense_1 (Dense)              (None, 32)                2080      \n",
            "_________________________________________________________________\n",
            "dense_2 (Dense)              (None, 10)                330       \n",
            "=================================================================\n",
            "Total params: 31,082\n",
            "Trainable params: 31,034\n",
            "Non-trainable params: 48\n",
            "_________________________________________________________________\n"
          ],
          "name": "stdout"
        }
      ]
    },
    {
      "cell_type": "code",
      "metadata": {
        "id": "QOziDnCNWYHG",
        "colab_type": "code",
        "colab": {}
      },
      "source": [
        ""
      ],
      "execution_count": 0,
      "outputs": []
    }
  ]
}